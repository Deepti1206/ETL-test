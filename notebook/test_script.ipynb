{
 "cells": [
  {
   "cell_type": "code",
   "execution_count": 8,
   "id": "3fcfb048-9b90-44b4-a16d-79542c4f3fe3",
   "metadata": {},
   "outputs": [],
   "source": [
    "# Loading the packages\n",
    "\n",
    "import numpy as np\n",
    "import pandas as pd"
   ]
  },
  {
   "cell_type": "code",
   "execution_count": 9,
   "id": "25b16d2e-32f1-4c14-ab07-e32284b9faf8",
   "metadata": {},
   "outputs": [],
   "source": [
    "from data_cleaning import age_category, bp_category, chol_category"
   ]
  },
  {
   "cell_type": "code",
   "execution_count": 10,
   "id": "f1923fa7-cb93-469d-9b55-f1b73a5f67e7",
   "metadata": {},
   "outputs": [],
   "source": [
    "# 1. Creating new column Age groups: \n",
    "\n",
    "def age_category(age): \n",
    "    '''Four categories: <18 = teenage \n",
    "                        18-39 = adult \n",
    "                        40-59 = middle age adult \n",
    "                        60+ = senior citizen '''\n",
    "    if age < 18:\n",
    "        return \"Teenage\" \n",
    "    elif age >= 18 and age < 40: \n",
    "        return \"Adult\" \n",
    "    elif age > 40 and age < 60: \n",
    "        return \"Middle-aged\" \n",
    "    elif age >= 60: \n",
    "        return \"Senior\" \n",
    "    else: \n",
    "        return \"None\""
   ]
  },
  {
   "cell_type": "code",
   "execution_count": 11,
   "id": "8b441077-a4f0-474d-9ac2-7efcd7ac52b8",
   "metadata": {},
   "outputs": [],
   "source": [
    "# 2. Creating new column BP category def bp_category (series): \n",
    "''' BP category logic: \n",
    "\n",
    "    | Age category | Men | Women |\n",
    "    | :---------| :------- | :-------|\n",
    "    | 18-39 years | 119/70 mm Hg | 110/68 mm Hg |\n",
    "    | 40-59 years | 124/77 mm Hg | 122/74 mm Hg |\n",
    "    | 60+ years | 133/69 mm Hg | 139/68 mm Hg |'''\n",
    "\n",
    "def bp_category(series) : \n",
    "    if series[\"age_category\"] == 'Middle-aged' and series[\"Sex\"] == \"F\":\n",
    "        if series[\"RestingBP\"] < 74:\n",
    "            return \"Low BP\"\n",
    "        if series[\"RestingBP\"] > 122:\n",
    "            return \"High BP\" \n",
    "        else:\n",
    "            return \"Normal\"\n",
    "    if series[\"age_category\"] == 'Middle-aged' and series[\"Sex\"] == \"M\":\n",
    "        if series[\"RestingBP\"] < 77:\n",
    "            return \"Low BP\"\n",
    "        if series[\"RestingBP\"] > 124:\n",
    "            return \"High BP\"\n",
    "        else:\n",
    "            return \"Normal\"\n",
    "    if series[\"age_category\"] == 'Adult' and series[\"Sex\"] == \"F\" :\n",
    "        if series[\"RestingBP\"] < 68:\n",
    "            return \"Low BP\"\n",
    "        if series[\"RestingBP\"] > 110:\n",
    "            return \"High BP\"\n",
    "        else:\n",
    "            return \"Normal\"\n",
    "    if series[\"age_category\"] == 'Adult' and series[\"Sex\"] == \"M\":\n",
    "        if series[\"RestingBP\"] < 70:\n",
    "            return \"Low BP\"\n",
    "        if series[\"RestingBP\"] > 119:\n",
    "            return \"High BP\"\n",
    "        else:\n",
    "            return \"Normal\"\n",
    "    if series[\"age_category\"] == 'Senior' and series[\"Sex\"] == \"F\":\n",
    "        if series[\"RestingBP\"] < 68:\n",
    "            return \"Low BP\"\n",
    "        if series[\"RestingBP\"] > 139:\n",
    "            return \"High BP\"\n",
    "        else:\n",
    "            return \"Normal\"\n",
    "        if series[\"age_category\"] == 'Senior' and series[\"Sex\"] == \"M\":\n",
    "            if series[\"RestingBP\"] < 69:\n",
    "                return \"Low BP\" \n",
    "            if series[\"RestingBP\"] > 133:\n",
    "                return \"High BP\"\n",
    "            else:\n",
    "                return \"Normal\"\n"
   ]
  },
  {
   "cell_type": "code",
   "execution_count": 12,
   "id": "f7e28097-1146-4fdb-9452-6d2f2d123323",
   "metadata": {},
   "outputs": [],
   "source": [
    "#3. Creating new column Cholesterol category \n",
    "\n",
    "def chol_category(x):\n",
    "    '''chol < 150 = Normal \n",
    "       chol between 150 to 499 = Mildly increased \n",
    "       chol between 500 to 886 = Moderately increased \n",
    "       chol > 886 = Very high '''\n",
    "    if x < 150: \n",
    "        return \"Normal\" \n",
    "    elif x > 150 and x < 500: \n",
    "        return \"Mildly increased\" \n",
    "    elif x >=500 and x < 886: \n",
    "        return \"Moderately increased\" \n",
    "    elif x >= 886: \n",
    "        return \"Very high\" \n",
    "    else: \n",
    "        return \"None\"\n"
   ]
  },
  {
   "cell_type": "code",
   "execution_count": 15,
   "id": "e8422e90-03c0-4b88-8ea8-e14ba6db6664",
   "metadata": {},
   "outputs": [],
   "source": [
    "def main(file_name, result_name): \n",
    "    heart_df = pd.read_csv(file_name)\n",
    "    heart_df[\"age_category\"] = heart_df.Age.apply(lambda x: age_category(x))\n",
    "    heart_df[\"bp_category\"] = heart_df.apply(lambda x: bp_category(x), axis =1) \n",
    "    heart_df[\"chol_category\"] = heart_df.Cholesterol.apply(lambda x:chol_category(x)) \n",
    "    heart_df.to_csv(result_name, index=False) \n",
    "    print(heart_df.head()) \n",
    "    return None \n"
   ]
  },
  {
   "cell_type": "code",
   "execution_count": 18,
   "id": "61a7607d-15a3-4fda-b7a0-ffffc8bf083e",
   "metadata": {},
   "outputs": [
    {
     "name": "stdout",
     "output_type": "stream",
     "text": [
      "   Age Sex ChestPainType  RestingBP  Cholesterol  FastingBS RestingECG  MaxHR  \\\n",
      "0   40   M           ATA        140          289          0     Normal    172   \n",
      "1   49   F           NAP        160          180          0     Normal    156   \n",
      "2   37   M           ATA        130          283          0         ST     98   \n",
      "3   48   F           ASY        138          214          0     Normal    108   \n",
      "4   54   M           NAP        150          195          0     Normal    122   \n",
      "\n",
      "  ExerciseAngina  Oldpeak ST_Slope  HeartDisease age_category bp_category  \\\n",
      "0              N      0.0       Up             0         None        None   \n",
      "1              N      1.0     Flat             1  Middle-aged     High BP   \n",
      "2              N      0.0       Up             0        Adult     High BP   \n",
      "3              Y      1.5     Flat             1  Middle-aged     High BP   \n",
      "4              N      0.0       Up             0  Middle-aged     High BP   \n",
      "\n",
      "      chol_category  \n",
      "0  Mildly increased  \n",
      "1  Mildly increased  \n",
      "2  Mildly increased  \n",
      "3  Mildly increased  \n",
      "4  Mildly increased  \n"
     ]
    },
    {
     "ename": "FileNotFoundError",
     "evalue": "[Errno 2] No such file or directory: 'notebook/data/result.csv'",
     "output_type": "error",
     "traceback": [
      "\u001b[0;31m---------------------------------------------------------------------------\u001b[0m",
      "\u001b[0;31mFileNotFoundError\u001b[0m                         Traceback (most recent call last)",
      "\u001b[0;32m<ipython-input-18-d744f89325ff>\u001b[0m in \u001b[0;36m<module>\u001b[0;34m\u001b[0m\n\u001b[1;32m      3\u001b[0m     \u001b[0mresult_name\u001b[0m \u001b[0;34m=\u001b[0m \u001b[0;34m'data/result.csv'\u001b[0m \u001b[0;31m#'notebook/data/result.csv'\u001b[0m\u001b[0;34m\u001b[0m\u001b[0;34m\u001b[0m\u001b[0m\n\u001b[1;32m      4\u001b[0m     \u001b[0mmain\u001b[0m\u001b[0;34m(\u001b[0m\u001b[0mfile_name\u001b[0m\u001b[0;34m,\u001b[0m \u001b[0mresult_name\u001b[0m\u001b[0;34m)\u001b[0m\u001b[0;34m\u001b[0m\u001b[0;34m\u001b[0m\u001b[0m\n\u001b[0;32m----> 5\u001b[0;31m     \u001b[0mdf_result\u001b[0m \u001b[0;34m=\u001b[0m \u001b[0mpd\u001b[0m\u001b[0;34m.\u001b[0m\u001b[0mread_csv\u001b[0m\u001b[0;34m(\u001b[0m\u001b[0;34m'notebook/data/result.csv'\u001b[0m\u001b[0;34m)\u001b[0m\u001b[0;34m\u001b[0m\u001b[0;34m\u001b[0m\u001b[0m\n\u001b[0m",
      "\u001b[0;32m/Library/Frameworks/Python.framework/Versions/3.9/lib/python3.9/site-packages/pandas/io/parsers.py\u001b[0m in \u001b[0;36mread_csv\u001b[0;34m(filepath_or_buffer, sep, delimiter, header, names, index_col, usecols, squeeze, prefix, mangle_dupe_cols, dtype, engine, converters, true_values, false_values, skipinitialspace, skiprows, skipfooter, nrows, na_values, keep_default_na, na_filter, verbose, skip_blank_lines, parse_dates, infer_datetime_format, keep_date_col, date_parser, dayfirst, cache_dates, iterator, chunksize, compression, thousands, decimal, lineterminator, quotechar, quoting, doublequote, escapechar, comment, encoding, dialect, error_bad_lines, warn_bad_lines, delim_whitespace, low_memory, memory_map, float_precision, storage_options)\u001b[0m\n\u001b[1;32m    608\u001b[0m     \u001b[0mkwds\u001b[0m\u001b[0;34m.\u001b[0m\u001b[0mupdate\u001b[0m\u001b[0;34m(\u001b[0m\u001b[0mkwds_defaults\u001b[0m\u001b[0;34m)\u001b[0m\u001b[0;34m\u001b[0m\u001b[0;34m\u001b[0m\u001b[0m\n\u001b[1;32m    609\u001b[0m \u001b[0;34m\u001b[0m\u001b[0m\n\u001b[0;32m--> 610\u001b[0;31m     \u001b[0;32mreturn\u001b[0m \u001b[0m_read\u001b[0m\u001b[0;34m(\u001b[0m\u001b[0mfilepath_or_buffer\u001b[0m\u001b[0;34m,\u001b[0m \u001b[0mkwds\u001b[0m\u001b[0;34m)\u001b[0m\u001b[0;34m\u001b[0m\u001b[0;34m\u001b[0m\u001b[0m\n\u001b[0m\u001b[1;32m    611\u001b[0m \u001b[0;34m\u001b[0m\u001b[0m\n\u001b[1;32m    612\u001b[0m \u001b[0;34m\u001b[0m\u001b[0m\n",
      "\u001b[0;32m/Library/Frameworks/Python.framework/Versions/3.9/lib/python3.9/site-packages/pandas/io/parsers.py\u001b[0m in \u001b[0;36m_read\u001b[0;34m(filepath_or_buffer, kwds)\u001b[0m\n\u001b[1;32m    460\u001b[0m \u001b[0;34m\u001b[0m\u001b[0m\n\u001b[1;32m    461\u001b[0m     \u001b[0;31m# Create the parser.\u001b[0m\u001b[0;34m\u001b[0m\u001b[0;34m\u001b[0m\u001b[0;34m\u001b[0m\u001b[0m\n\u001b[0;32m--> 462\u001b[0;31m     \u001b[0mparser\u001b[0m \u001b[0;34m=\u001b[0m \u001b[0mTextFileReader\u001b[0m\u001b[0;34m(\u001b[0m\u001b[0mfilepath_or_buffer\u001b[0m\u001b[0;34m,\u001b[0m \u001b[0;34m**\u001b[0m\u001b[0mkwds\u001b[0m\u001b[0;34m)\u001b[0m\u001b[0;34m\u001b[0m\u001b[0;34m\u001b[0m\u001b[0m\n\u001b[0m\u001b[1;32m    463\u001b[0m \u001b[0;34m\u001b[0m\u001b[0m\n\u001b[1;32m    464\u001b[0m     \u001b[0;32mif\u001b[0m \u001b[0mchunksize\u001b[0m \u001b[0;32mor\u001b[0m \u001b[0miterator\u001b[0m\u001b[0;34m:\u001b[0m\u001b[0;34m\u001b[0m\u001b[0;34m\u001b[0m\u001b[0m\n",
      "\u001b[0;32m/Library/Frameworks/Python.framework/Versions/3.9/lib/python3.9/site-packages/pandas/io/parsers.py\u001b[0m in \u001b[0;36m__init__\u001b[0;34m(self, f, engine, **kwds)\u001b[0m\n\u001b[1;32m    817\u001b[0m             \u001b[0mself\u001b[0m\u001b[0;34m.\u001b[0m\u001b[0moptions\u001b[0m\u001b[0;34m[\u001b[0m\u001b[0;34m\"has_index_names\"\u001b[0m\u001b[0;34m]\u001b[0m \u001b[0;34m=\u001b[0m \u001b[0mkwds\u001b[0m\u001b[0;34m[\u001b[0m\u001b[0;34m\"has_index_names\"\u001b[0m\u001b[0;34m]\u001b[0m\u001b[0;34m\u001b[0m\u001b[0;34m\u001b[0m\u001b[0m\n\u001b[1;32m    818\u001b[0m \u001b[0;34m\u001b[0m\u001b[0m\n\u001b[0;32m--> 819\u001b[0;31m         \u001b[0mself\u001b[0m\u001b[0;34m.\u001b[0m\u001b[0m_engine\u001b[0m \u001b[0;34m=\u001b[0m \u001b[0mself\u001b[0m\u001b[0;34m.\u001b[0m\u001b[0m_make_engine\u001b[0m\u001b[0;34m(\u001b[0m\u001b[0mself\u001b[0m\u001b[0;34m.\u001b[0m\u001b[0mengine\u001b[0m\u001b[0;34m)\u001b[0m\u001b[0;34m\u001b[0m\u001b[0;34m\u001b[0m\u001b[0m\n\u001b[0m\u001b[1;32m    820\u001b[0m \u001b[0;34m\u001b[0m\u001b[0m\n\u001b[1;32m    821\u001b[0m     \u001b[0;32mdef\u001b[0m \u001b[0mclose\u001b[0m\u001b[0;34m(\u001b[0m\u001b[0mself\u001b[0m\u001b[0;34m)\u001b[0m\u001b[0;34m:\u001b[0m\u001b[0;34m\u001b[0m\u001b[0;34m\u001b[0m\u001b[0m\n",
      "\u001b[0;32m/Library/Frameworks/Python.framework/Versions/3.9/lib/python3.9/site-packages/pandas/io/parsers.py\u001b[0m in \u001b[0;36m_make_engine\u001b[0;34m(self, engine)\u001b[0m\n\u001b[1;32m   1048\u001b[0m             )\n\u001b[1;32m   1049\u001b[0m         \u001b[0;31m# error: Too many arguments for \"ParserBase\"\u001b[0m\u001b[0;34m\u001b[0m\u001b[0;34m\u001b[0m\u001b[0;34m\u001b[0m\u001b[0m\n\u001b[0;32m-> 1050\u001b[0;31m         \u001b[0;32mreturn\u001b[0m \u001b[0mmapping\u001b[0m\u001b[0;34m[\u001b[0m\u001b[0mengine\u001b[0m\u001b[0;34m]\u001b[0m\u001b[0;34m(\u001b[0m\u001b[0mself\u001b[0m\u001b[0;34m.\u001b[0m\u001b[0mf\u001b[0m\u001b[0;34m,\u001b[0m \u001b[0;34m**\u001b[0m\u001b[0mself\u001b[0m\u001b[0;34m.\u001b[0m\u001b[0moptions\u001b[0m\u001b[0;34m)\u001b[0m  \u001b[0;31m# type: ignore[call-arg]\u001b[0m\u001b[0;34m\u001b[0m\u001b[0;34m\u001b[0m\u001b[0m\n\u001b[0m\u001b[1;32m   1051\u001b[0m \u001b[0;34m\u001b[0m\u001b[0m\n\u001b[1;32m   1052\u001b[0m     \u001b[0;32mdef\u001b[0m \u001b[0m_failover_to_python\u001b[0m\u001b[0;34m(\u001b[0m\u001b[0mself\u001b[0m\u001b[0;34m)\u001b[0m\u001b[0;34m:\u001b[0m\u001b[0;34m\u001b[0m\u001b[0;34m\u001b[0m\u001b[0m\n",
      "\u001b[0;32m/Library/Frameworks/Python.framework/Versions/3.9/lib/python3.9/site-packages/pandas/io/parsers.py\u001b[0m in \u001b[0;36m__init__\u001b[0;34m(self, src, **kwds)\u001b[0m\n\u001b[1;32m   1865\u001b[0m \u001b[0;34m\u001b[0m\u001b[0m\n\u001b[1;32m   1866\u001b[0m         \u001b[0;31m# open handles\u001b[0m\u001b[0;34m\u001b[0m\u001b[0;34m\u001b[0m\u001b[0;34m\u001b[0m\u001b[0m\n\u001b[0;32m-> 1867\u001b[0;31m         \u001b[0mself\u001b[0m\u001b[0;34m.\u001b[0m\u001b[0m_open_handles\u001b[0m\u001b[0;34m(\u001b[0m\u001b[0msrc\u001b[0m\u001b[0;34m,\u001b[0m \u001b[0mkwds\u001b[0m\u001b[0;34m)\u001b[0m\u001b[0;34m\u001b[0m\u001b[0;34m\u001b[0m\u001b[0m\n\u001b[0m\u001b[1;32m   1868\u001b[0m         \u001b[0;32massert\u001b[0m \u001b[0mself\u001b[0m\u001b[0;34m.\u001b[0m\u001b[0mhandles\u001b[0m \u001b[0;32mis\u001b[0m \u001b[0;32mnot\u001b[0m \u001b[0;32mNone\u001b[0m\u001b[0;34m\u001b[0m\u001b[0;34m\u001b[0m\u001b[0m\n\u001b[1;32m   1869\u001b[0m         \u001b[0;32mfor\u001b[0m \u001b[0mkey\u001b[0m \u001b[0;32min\u001b[0m \u001b[0;34m(\u001b[0m\u001b[0;34m\"storage_options\"\u001b[0m\u001b[0;34m,\u001b[0m \u001b[0;34m\"encoding\"\u001b[0m\u001b[0;34m,\u001b[0m \u001b[0;34m\"memory_map\"\u001b[0m\u001b[0;34m,\u001b[0m \u001b[0;34m\"compression\"\u001b[0m\u001b[0;34m)\u001b[0m\u001b[0;34m:\u001b[0m\u001b[0;34m\u001b[0m\u001b[0;34m\u001b[0m\u001b[0m\n",
      "\u001b[0;32m/Library/Frameworks/Python.framework/Versions/3.9/lib/python3.9/site-packages/pandas/io/parsers.py\u001b[0m in \u001b[0;36m_open_handles\u001b[0;34m(self, src, kwds)\u001b[0m\n\u001b[1;32m   1360\u001b[0m         \u001b[0mLet\u001b[0m \u001b[0mthe\u001b[0m \u001b[0mreaders\u001b[0m \u001b[0mopen\u001b[0m \u001b[0mIOHanldes\u001b[0m \u001b[0mafter\u001b[0m \u001b[0mthey\u001b[0m \u001b[0mare\u001b[0m \u001b[0mdone\u001b[0m \u001b[0;32mwith\u001b[0m \u001b[0mtheir\u001b[0m \u001b[0mpotential\u001b[0m \u001b[0mraises\u001b[0m\u001b[0;34m.\u001b[0m\u001b[0;34m\u001b[0m\u001b[0;34m\u001b[0m\u001b[0m\n\u001b[1;32m   1361\u001b[0m         \"\"\"\n\u001b[0;32m-> 1362\u001b[0;31m         self.handles = get_handle(\n\u001b[0m\u001b[1;32m   1363\u001b[0m             \u001b[0msrc\u001b[0m\u001b[0;34m,\u001b[0m\u001b[0;34m\u001b[0m\u001b[0;34m\u001b[0m\u001b[0m\n\u001b[1;32m   1364\u001b[0m             \u001b[0;34m\"r\"\u001b[0m\u001b[0;34m,\u001b[0m\u001b[0;34m\u001b[0m\u001b[0;34m\u001b[0m\u001b[0m\n",
      "\u001b[0;32m/Library/Frameworks/Python.framework/Versions/3.9/lib/python3.9/site-packages/pandas/io/common.py\u001b[0m in \u001b[0;36mget_handle\u001b[0;34m(path_or_buf, mode, encoding, compression, memory_map, is_text, errors, storage_options)\u001b[0m\n\u001b[1;32m    640\u001b[0m                 \u001b[0merrors\u001b[0m \u001b[0;34m=\u001b[0m \u001b[0;34m\"replace\"\u001b[0m\u001b[0;34m\u001b[0m\u001b[0;34m\u001b[0m\u001b[0m\n\u001b[1;32m    641\u001b[0m             \u001b[0;31m# Encoding\u001b[0m\u001b[0;34m\u001b[0m\u001b[0;34m\u001b[0m\u001b[0;34m\u001b[0m\u001b[0m\n\u001b[0;32m--> 642\u001b[0;31m             handle = open(\n\u001b[0m\u001b[1;32m    643\u001b[0m                 \u001b[0mhandle\u001b[0m\u001b[0;34m,\u001b[0m\u001b[0;34m\u001b[0m\u001b[0;34m\u001b[0m\u001b[0m\n\u001b[1;32m    644\u001b[0m                 \u001b[0mioargs\u001b[0m\u001b[0;34m.\u001b[0m\u001b[0mmode\u001b[0m\u001b[0;34m,\u001b[0m\u001b[0;34m\u001b[0m\u001b[0;34m\u001b[0m\u001b[0m\n",
      "\u001b[0;31mFileNotFoundError\u001b[0m: [Errno 2] No such file or directory: 'notebook/data/result.csv'"
     ]
    }
   ],
   "source": [
    "if __name__ == \"__main__\": \n",
    "    file_name = 'data/heart.csv'  # 'notebook/data/heart.csv' \n",
    "    result_name = 'data/result.csv' #'notebook/data/result.csv'\n",
    "    main(file_name, result_name) \n",
    "    df_result = pd.read_csv('notebook/data/result.csv')"
   ]
  },
  {
   "cell_type": "code",
   "execution_count": null,
   "id": "78e0da31-be9e-4a46-8320-404aa8e515b9",
   "metadata": {},
   "outputs": [],
   "source": []
  }
 ],
 "metadata": {
  "kernelspec": {
   "display_name": "Python 3",
   "language": "python",
   "name": "python3"
  },
  "language_info": {
   "codemirror_mode": {
    "name": "ipython",
    "version": 3
   },
   "file_extension": ".py",
   "mimetype": "text/x-python",
   "name": "python",
   "nbconvert_exporter": "python",
   "pygments_lexer": "ipython3",
   "version": "3.9.5"
  }
 },
 "nbformat": 4,
 "nbformat_minor": 5
}
